{
 "metadata": {
  "name": "",
  "signature": "sha256:5f948ca217c2d72fc2178663f0070cd4b2666b4d0df7573f58da70ab5c456b01"
 },
 "nbformat": 3,
 "nbformat_minor": 0,
 "worksheets": [
  {
   "cells": [
    {
     "cell_type": "markdown",
     "metadata": {},
     "source": [
      "This notebook provides examples on ploting pan-Arctic and Candian Arctic Arichpolago (CAA) "
     ]
    },
    {
     "cell_type": "heading",
     "level": 3,
     "metadata": {},
     "source": [
      "1. Import Modules & Tools"
     ]
    },
    {
     "cell_type": "code",
     "collapsed": false,
     "input": [],
     "language": "python",
     "metadata": {},
     "outputs": []
    }
   ],
   "metadata": {}
  }
 ]
}