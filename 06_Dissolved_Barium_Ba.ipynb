{
 "metadata": {
  "name": "",
  "signature": "sha256:f9614f76245030dcb3b29f48347c394d93a2521dc1b35689b44b7cfbe6b404d4"
 },
 "nbformat": 3,
 "nbformat_minor": 0,
 "worksheets": [
  {
   "cells": [
    {
     "cell_type": "code",
     "collapsed": false,
     "input": [],
     "language": "python",
     "metadata": {},
     "outputs": [],
     "prompt_number": 0
    },
    {
     "cell_type": "code",
     "collapsed": false,
     "input": [
      "#import copy\n",
      "import glob\n",
      "import numpy as np\n",
      "import netCDF4 as nc\n",
      "import matplotlib.pyplot as plt\n",
      "from __future__ import division\n",
      "from __future__ import print_function\n",
      "from mpl_toolkits.basemap import cm\n",
      "from mpl_toolkits.basemap import Basemap\n",
      "from mpl_toolkits.basemap import shiftgrid\n",
      "% matplotlib inline"
     ],
     "language": "python",
     "metadata": {},
     "outputs": [],
     "prompt_number": 0
    },
    {
     "cell_type": "code",
     "collapsed": false,
     "input": [],
     "language": "python",
     "metadata": {},
     "outputs": [],
     "prompt_number": 0
    },
    {
     "cell_type": "code",
     "collapsed": false,
     "input": [
      "gridT_obj=glob.glob('_data/RUSSIA*1m*grid_T.nc')\n",
      "print(\"found file: \\n{}\".format(gridT_obj))"
     ],
     "language": "python",
     "metadata": {},
     "outputs": [],
     "prompt_number": 0
    },
    {
     "cell_type": "code",
     "collapsed": false,
     "input": [],
     "language": "python",
     "metadata": {},
     "outputs": [],
     "prompt_number": 0
    },
    {
     "cell_type": "code",
     "collapsed": false,
     "input": [
      "gridT=nc.Dataset(gridT_obj[0])"
     ],
     "language": "python",
     "metadata": {},
     "outputs": [],
     "prompt_number": 0
    },
    {
     "cell_type": "code",
     "collapsed": false,
     "input": [],
     "language": "python",
     "metadata": {},
     "outputs": [],
     "prompt_number": 0
    },
    {
     "cell_type": "code",
     "collapsed": false,
     "input": [
      "Ba=gridT.variables['TR_7'][:]"
     ],
     "language": "python",
     "metadata": {},
     "outputs": [],
     "prompt_number": 0
    },
    {
     "cell_type": "code",
     "collapsed": false,
     "input": [
      "latitude=gridT.variables['nav_lat'][:]\n",
      "longitude=gridT.variables['nav_lon'][:]"
     ],
     "language": "python",
     "metadata": {},
     "outputs": [],
     "prompt_number": 0
    },
    {
     "cell_type": "code",
     "collapsed": false,
     "input": [],
     "language": "python",
     "metadata": {},
     "outputs": [],
     "prompt_number": 0
    },
    {
     "cell_type": "code",
     "collapsed": false,
     "input": [
      "fig=plt.figure(figsize=(12, 12))\n",
      "proj=Basemap(projection='npstere', resolution='c', \\\n",
      "            boundinglat=50, lon_0=90, round=True)\n",
      "ax=plt.gca()\n",
      "## define parallels and meridians to draw.\n",
      "parallels=np.arange(-90, 90, 15)\n",
      "meridians=np.arange(0, 360, 60)\n",
      "proj.drawparallels(parallels, labels=[1, 1, 1, 1],\\\n",
      "                  fontsize=10, latmax=90)\n",
      "proj.drawmeridians(meridians, labels=[1, 1, 1, 1],\\\n",
      "                  fontsize=10, latmax=90)\n",
      "proj.drawcoastlines(linewidth=2.0, linestyle='-', color='k')\n",
      "# compute native x,y coordinates of grid.\n",
      "x, y=proj(longitude, latitude)\n",
      "CS=proj.pcolormesh(x, y, freshwater[2, :, :], cmap=plt.cm.RdBu, vmin=0, vmax=50)\n",
      "CBar=proj.colorbar(CS, location='right', size='5%', pad='10%')\n",
      "ax.set_title('Rusisa_River_Dessolved_Barium', fontsize=14, fontweight='bold', y=1.025)\n",
      "plt.show()"
     ],
     "language": "python",
     "metadata": {},
     "outputs": [],
     "prompt_number": 0
    },
    {
     "cell_type": "code",
     "collapsed": false,
     "input": [],
     "language": "python",
     "metadata": {},
     "outputs": [],
     "prompt_number": 0
    },
    {
     "cell_type": "code",
     "collapsed": false,
     "input": [],
     "language": "python",
     "metadata": {},
     "outputs": []
    }
   ],
   "metadata": {}
  }
 ]
}