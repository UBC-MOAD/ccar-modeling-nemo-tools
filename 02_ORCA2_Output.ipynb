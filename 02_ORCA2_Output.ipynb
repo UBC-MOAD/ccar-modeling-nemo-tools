{
 "metadata": {
  "name": "",
  "signature": "sha256:65663a878779ec233c29c29085e8ee62f8bc94042ebc9988a3ba60ee7b0e92a5"
 },
 "nbformat": 3,
 "nbformat_minor": 0,
 "worksheets": [
  {
   "cells": [
    {
     "cell_type": "code",
     "collapsed": false,
     "input": [
      "import glob\n",
      "import numpy as np\n",
      "import netCDF4 as nc\n",
      "import matplotlib.pyplot as plt\n",
      "from __future__ import division\n",
      "from __future__ import print_function\n",
      "from mpl_toolkits.basemap import cm\n",
      "from mpl_toolkits.basemap import Basemap\n",
      "from mpl_toolkits.basemap import shiftgrid\n",
      "% matplotlib inline"
     ],
     "language": "python",
     "metadata": {},
     "outputs": [],
     "prompt_number": 1
    },
    {
     "cell_type": "code",
     "collapsed": false,
     "input": [],
     "language": "python",
     "metadata": {},
     "outputs": []
    },
    {
     "cell_type": "code",
     "collapsed": false,
     "input": [
      "def draw_ORCA2_Atlantic(lon, lat, var, clev, var_name, CMap):\n",
      "    '''\n",
      "        Draw NEMO forcing data on a global scale\n",
      "    '''\n",
      "    #fig    \n",
      "    fig=plt.figure(figsize=(14, 14))\n",
      "    axes=plt.gca()\n",
      "    #left\n",
      "    proj=Basemap(projection='mill', llcrnrlat=0, urcrnrlat=90,\\\n",
      "            llcrnrlon=-170, urcrnrlon=20, resolution='l')\n",
      "    proj.drawcoastlines(linewidth=1.5, linestyle='-', color='k', zorder=3)\n",
      "    proj.drawlsmask(land_color=[0.5, 0.5, 0.5], ocean_color='None', lsmask=None, zorder=2, resolution='c')\n",
      "    x, y=proj(lon, lat)\n",
      "    CS=proj.contourf(x, y, var, clev, cmap=CMap, extend='both')\n",
      "    proj.contour(x, y, var, clev, colors='k', linewidths=2.0)\n",
      "    # colorbar\n",
      "    CBar=proj.colorbar(CS, location='right', size='5%', pad='10%')\n",
      "    CBar.set_label(var_name, fontsize=14, fontweight='bold')\n",
      "    CBar.ax.tick_params(axis='y', length=22.5)\n",
      "    return fig, axes, proj"
     ],
     "language": "python",
     "metadata": {},
     "outputs": [],
     "prompt_number": 7
    },
    {
     "cell_type": "code",
     "collapsed": false,
     "input": [
      "T_name=glob.glob('_data/ORCA2_LIM_PISCES/*1m*grid_T.nc')\n",
      "print(\"found file: \\n{}\".format(T_name))"
     ],
     "language": "python",
     "metadata": {},
     "outputs": [
      {
       "output_type": "stream",
       "stream": "stdout",
       "text": [
        "found file: \n",
        "['_data/ORCA2_LIM_PISCES\\\\ORCA2_1m_19700101_19701231_grid_T.nc']\n"
       ]
      }
     ],
     "prompt_number": 4
    },
    {
     "cell_type": "code",
     "collapsed": false,
     "input": [
      "T_obj=nc.Dataset(T_name[0])\n",
      "print('Variables in {}:\\n==========\\n{}'.format(T_name[0], T_obj.variables.keys()))"
     ],
     "language": "python",
     "metadata": {},
     "outputs": [
      {
       "output_type": "stream",
       "stream": "stdout",
       "text": [
        "Variables in _data/ORCA2_LIM_PISCES\\ORCA2_1m_19700101_19701231_grid_T.nc:\n",
        "==========\n",
        "[u'nav_lon', u'nav_lat', u'time_counter', u'time_counter_bnds', u'sosstsst']\n"
       ]
      }
     ],
     "prompt_number": 5
    },
    {
     "cell_type": "code",
     "collapsed": false,
     "input": [
      "nav_lon=T_obj.variables['nav_lon'][:]\n",
      "nav_lat=T_obj.variables['nav_lat'][:]\n",
      "sst=T_obj.variables['sosstsst'][:]"
     ],
     "language": "python",
     "metadata": {},
     "outputs": [],
     "prompt_number": 6
    },
    {
     "cell_type": "code",
     "collapsed": false,
     "input": [
      "clev=np.arange(20, 40, 2.5)\n",
      "CMap=cm.GMT_no_green\n",
      "CMap.set_under([0.75, 0.75, 0.75])\n",
      "var_name='Salinity'\n",
      "fig, ax, proj = draw_ORCA2_Atlantic(nav_lon, nav_lat, np.mean(sss, 0), clev, var_name, CMap)\n",
      "title='Sea Surface Salinity -- sss_data.nc'\n",
      "ax.set_title(title, fontsize=16, fontweight='bold')\n",
      "fig.set_size_inches(10, 10)\n",
      "fig.canvas.draw()"
     ],
     "language": "python",
     "metadata": {},
     "outputs": []
    },
    {
     "cell_type": "code",
     "collapsed": false,
     "input": [],
     "language": "python",
     "metadata": {},
     "outputs": []
    }
   ],
   "metadata": {}
  }
 ]
}